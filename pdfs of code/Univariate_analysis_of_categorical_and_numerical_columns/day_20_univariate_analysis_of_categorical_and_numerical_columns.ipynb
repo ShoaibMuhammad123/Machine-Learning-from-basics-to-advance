{
 "cells": [
  {
   "cell_type": "code",
   "execution_count": 7,
   "id": "f818e749",
   "metadata": {
    "scrolled": true
   },
   "outputs": [
    {
     "name": "stderr",
     "output_type": "stream",
     "text": [
      "C:\\Users\\PMYLS\\anaconda3\\lib\\site-packages\\scipy\\__init__.py:155: UserWarning: A NumPy version >=1.18.5 and <1.25.0 is required for this version of SciPy (detected version 1.26.4\n",
      "  warnings.warn(f\"A NumPy version >={np_minversion} and <{np_maxversion}\"\n"
     ]
    }
   ],
   "source": [
    "import pandas as pd\n",
    "import matplotlib.pyplot as plt\n",
    "import seaborn as sns\n",
    "import numpy as np"
   ]
  },
  {
   "cell_type": "markdown",
   "id": "ebd26882",
   "metadata": {},
   "source": [
    "# UNIVARIATE ANALYSIS"
   ]
  },
  {
   "cell_type": "markdown",
   "id": "9ed2ca82",
   "metadata": {},
   "source": [
    "### In univariate analysis your mostly focused on to plotting graph to find the hidden information "
   ]
  },
  {
   "cell_type": "code",
   "execution_count": 5,
   "id": "bb5a4375",
   "metadata": {},
   "outputs": [],
   "source": [
    "df = pd.read_json('train.json')"
   ]
  },
  {
   "cell_type": "code",
   "execution_count": 6,
   "id": "1ddbb401",
   "metadata": {},
   "outputs": [
    {
     "data": {
      "text/html": [
       "<div>\n",
       "<style scoped>\n",
       "    .dataframe tbody tr th:only-of-type {\n",
       "        vertical-align: middle;\n",
       "    }\n",
       "\n",
       "    .dataframe tbody tr th {\n",
       "        vertical-align: top;\n",
       "    }\n",
       "\n",
       "    .dataframe thead th {\n",
       "        text-align: right;\n",
       "    }\n",
       "</style>\n",
       "<table border=\"1\" class=\"dataframe\">\n",
       "  <thead>\n",
       "    <tr style=\"text-align: right;\">\n",
       "      <th></th>\n",
       "      <th>id</th>\n",
       "      <th>cuisine</th>\n",
       "      <th>ingredients</th>\n",
       "    </tr>\n",
       "  </thead>\n",
       "  <tbody>\n",
       "    <tr>\n",
       "      <th>0</th>\n",
       "      <td>10259</td>\n",
       "      <td>greek</td>\n",
       "      <td>[romaine lettuce, black olives, grape tomatoes...</td>\n",
       "    </tr>\n",
       "    <tr>\n",
       "      <th>1</th>\n",
       "      <td>25693</td>\n",
       "      <td>southern_us</td>\n",
       "      <td>[plain flour, ground pepper, salt, tomatoes, g...</td>\n",
       "    </tr>\n",
       "    <tr>\n",
       "      <th>2</th>\n",
       "      <td>20130</td>\n",
       "      <td>filipino</td>\n",
       "      <td>[eggs, pepper, salt, mayonaise, cooking oil, g...</td>\n",
       "    </tr>\n",
       "    <tr>\n",
       "      <th>3</th>\n",
       "      <td>22213</td>\n",
       "      <td>indian</td>\n",
       "      <td>[water, vegetable oil, wheat, salt]</td>\n",
       "    </tr>\n",
       "    <tr>\n",
       "      <th>4</th>\n",
       "      <td>13162</td>\n",
       "      <td>indian</td>\n",
       "      <td>[black pepper, shallots, cornflour, cayenne pe...</td>\n",
       "    </tr>\n",
       "    <tr>\n",
       "      <th>...</th>\n",
       "      <td>...</td>\n",
       "      <td>...</td>\n",
       "      <td>...</td>\n",
       "    </tr>\n",
       "    <tr>\n",
       "      <th>39769</th>\n",
       "      <td>29109</td>\n",
       "      <td>irish</td>\n",
       "      <td>[light brown sugar, granulated sugar, butter, ...</td>\n",
       "    </tr>\n",
       "    <tr>\n",
       "      <th>39770</th>\n",
       "      <td>11462</td>\n",
       "      <td>italian</td>\n",
       "      <td>[KRAFT Zesty Italian Dressing, purple onion, b...</td>\n",
       "    </tr>\n",
       "    <tr>\n",
       "      <th>39771</th>\n",
       "      <td>2238</td>\n",
       "      <td>irish</td>\n",
       "      <td>[eggs, citrus fruit, raisins, sourdough starte...</td>\n",
       "    </tr>\n",
       "    <tr>\n",
       "      <th>39772</th>\n",
       "      <td>41882</td>\n",
       "      <td>chinese</td>\n",
       "      <td>[boneless chicken skinless thigh, minced garli...</td>\n",
       "    </tr>\n",
       "    <tr>\n",
       "      <th>39773</th>\n",
       "      <td>2362</td>\n",
       "      <td>mexican</td>\n",
       "      <td>[green chile, jalapeno chilies, onions, ground...</td>\n",
       "    </tr>\n",
       "  </tbody>\n",
       "</table>\n",
       "<p>39774 rows × 3 columns</p>\n",
       "</div>"
      ],
      "text/plain": [
       "          id      cuisine                                        ingredients\n",
       "0      10259        greek  [romaine lettuce, black olives, grape tomatoes...\n",
       "1      25693  southern_us  [plain flour, ground pepper, salt, tomatoes, g...\n",
       "2      20130     filipino  [eggs, pepper, salt, mayonaise, cooking oil, g...\n",
       "3      22213       indian                [water, vegetable oil, wheat, salt]\n",
       "4      13162       indian  [black pepper, shallots, cornflour, cayenne pe...\n",
       "...      ...          ...                                                ...\n",
       "39769  29109        irish  [light brown sugar, granulated sugar, butter, ...\n",
       "39770  11462      italian  [KRAFT Zesty Italian Dressing, purple onion, b...\n",
       "39771   2238        irish  [eggs, citrus fruit, raisins, sourdough starte...\n",
       "39772  41882      chinese  [boneless chicken skinless thigh, minced garli...\n",
       "39773   2362      mexican  [green chile, jalapeno chilies, onions, ground...\n",
       "\n",
       "[39774 rows x 3 columns]"
      ]
     },
     "execution_count": 6,
     "metadata": {},
     "output_type": "execute_result"
    }
   ],
   "source": [
    "df"
   ]
  },
  {
   "cell_type": "code",
   "execution_count": 1,
   "id": "b225eb01",
   "metadata": {},
   "outputs": [],
   "source": [
    "import mysql.connector"
   ]
  },
  {
   "cell_type": "code",
   "execution_count": 5,
   "id": "20ad549a",
   "metadata": {},
   "outputs": [],
   "source": [
    "conn = mysql.connector.connect(host='localhost',user='root',password='',database='smartphones')"
   ]
  },
  {
   "cell_type": "code",
   "execution_count": 11,
   "id": "c1bf4711",
   "metadata": {},
   "outputs": [
    {
     "name": "stderr",
     "output_type": "stream",
     "text": [
      "C:\\Users\\PMYLS\\anaconda3\\lib\\site-packages\\pandas\\io\\sql.py:762: UserWarning: pandas only support SQLAlchemy connectable(engine/connection) ordatabase string URI or sqlite3 DBAPI2 connectionother DBAPI2 objects are not tested, please consider using SQLAlchemy\n",
      "  warnings.warn(\n"
     ]
    }
   ],
   "source": [
    "df = pd.read_sql_query('SELECT * FROM smartphones',conn)"
   ]
  },
  {
   "cell_type": "code",
   "execution_count": 16,
   "id": "f004f427",
   "metadata": {},
   "outputs": [
    {
     "data": {
      "text/html": [
       "<div>\n",
       "<style scoped>\n",
       "    .dataframe tbody tr th:only-of-type {\n",
       "        vertical-align: middle;\n",
       "    }\n",
       "\n",
       "    .dataframe tbody tr th {\n",
       "        vertical-align: top;\n",
       "    }\n",
       "\n",
       "    .dataframe thead th {\n",
       "        text-align: right;\n",
       "    }\n",
       "</style>\n",
       "<table border=\"1\" class=\"dataframe\">\n",
       "  <thead>\n",
       "    <tr style=\"text-align: right;\">\n",
       "      <th></th>\n",
       "      <th>COL 1</th>\n",
       "      <th>COL 2</th>\n",
       "      <th>COL 3</th>\n",
       "      <th>COL 4</th>\n",
       "      <th>COL 5</th>\n",
       "      <th>COL 6</th>\n",
       "      <th>COL 7</th>\n",
       "      <th>COL 8</th>\n",
       "      <th>COL 9</th>\n",
       "      <th>COL 10</th>\n",
       "      <th>...</th>\n",
       "      <th>COL 13</th>\n",
       "      <th>COL 14</th>\n",
       "      <th>COL 15</th>\n",
       "      <th>COL 16</th>\n",
       "      <th>COL 17</th>\n",
       "      <th>COL 18</th>\n",
       "      <th>COL 19</th>\n",
       "      <th>COL 20</th>\n",
       "      <th>COL 21</th>\n",
       "      <th>COL 22</th>\n",
       "    </tr>\n",
       "  </thead>\n",
       "  <tbody>\n",
       "    <tr>\n",
       "      <th>0</th>\n",
       "      <td>brand_name</td>\n",
       "      <td>model</td>\n",
       "      <td>price</td>\n",
       "      <td>avg_rating</td>\n",
       "      <td>5G_or_not</td>\n",
       "      <td>processor_brand</td>\n",
       "      <td>num_cores</td>\n",
       "      <td>processor_speed</td>\n",
       "      <td>battery_capacity</td>\n",
       "      <td>fast_charging_available</td>\n",
       "      <td>...</td>\n",
       "      <td>internal_memory</td>\n",
       "      <td>screen_size</td>\n",
       "      <td>refresh_rate</td>\n",
       "      <td>num_rear_cameras</td>\n",
       "      <td>os</td>\n",
       "      <td>primary_camera_rear</td>\n",
       "      <td>primary_camera_front</td>\n",
       "      <td>extended_memory_available</td>\n",
       "      <td>resolution_height</td>\n",
       "      <td>resolution_width</td>\n",
       "    </tr>\n",
       "    <tr>\n",
       "      <th>1</th>\n",
       "      <td>apple</td>\n",
       "      <td>Apple iPhone 11</td>\n",
       "      <td>38999</td>\n",
       "      <td>7.3</td>\n",
       "      <td>0</td>\n",
       "      <td>bionic</td>\n",
       "      <td>6</td>\n",
       "      <td>2.65</td>\n",
       "      <td>3110</td>\n",
       "      <td>0</td>\n",
       "      <td>...</td>\n",
       "      <td>64</td>\n",
       "      <td>6.1</td>\n",
       "      <td>60</td>\n",
       "      <td>2</td>\n",
       "      <td>ios</td>\n",
       "      <td>12</td>\n",
       "      <td>12</td>\n",
       "      <td>0</td>\n",
       "      <td>1792</td>\n",
       "      <td>828</td>\n",
       "    </tr>\n",
       "    <tr>\n",
       "      <th>2</th>\n",
       "      <td>apple</td>\n",
       "      <td>Apple iPhone 11 (128GB)</td>\n",
       "      <td>46999</td>\n",
       "      <td>7.5</td>\n",
       "      <td>0</td>\n",
       "      <td>bionic</td>\n",
       "      <td>6</td>\n",
       "      <td>2.65</td>\n",
       "      <td>3110</td>\n",
       "      <td>0</td>\n",
       "      <td>...</td>\n",
       "      <td>128</td>\n",
       "      <td>6.1</td>\n",
       "      <td>60</td>\n",
       "      <td>2</td>\n",
       "      <td>ios</td>\n",
       "      <td>12</td>\n",
       "      <td>12</td>\n",
       "      <td>0</td>\n",
       "      <td>1792</td>\n",
       "      <td>828</td>\n",
       "    </tr>\n",
       "    <tr>\n",
       "      <th>3</th>\n",
       "      <td>apple</td>\n",
       "      <td>Apple iPhone 11 Pro Max</td>\n",
       "      <td>109900</td>\n",
       "      <td>7.7</td>\n",
       "      <td>0</td>\n",
       "      <td>bionic</td>\n",
       "      <td>6</td>\n",
       "      <td>2.65</td>\n",
       "      <td>3500</td>\n",
       "      <td>1</td>\n",
       "      <td>...</td>\n",
       "      <td>64</td>\n",
       "      <td>6.5</td>\n",
       "      <td>60</td>\n",
       "      <td>3</td>\n",
       "      <td>ios</td>\n",
       "      <td>12</td>\n",
       "      <td>12</td>\n",
       "      <td>0</td>\n",
       "      <td>2688</td>\n",
       "      <td>1242</td>\n",
       "    </tr>\n",
       "    <tr>\n",
       "      <th>4</th>\n",
       "      <td>apple</td>\n",
       "      <td>Apple iPhone 12</td>\n",
       "      <td>51999</td>\n",
       "      <td>7.4</td>\n",
       "      <td>1</td>\n",
       "      <td>bionic</td>\n",
       "      <td>6</td>\n",
       "      <td>3.1</td>\n",
       "      <td></td>\n",
       "      <td>0</td>\n",
       "      <td>...</td>\n",
       "      <td>64</td>\n",
       "      <td>6.1</td>\n",
       "      <td>60</td>\n",
       "      <td>2</td>\n",
       "      <td>ios</td>\n",
       "      <td>12</td>\n",
       "      <td>12</td>\n",
       "      <td>0</td>\n",
       "      <td>2532</td>\n",
       "      <td>1170</td>\n",
       "    </tr>\n",
       "  </tbody>\n",
       "</table>\n",
       "<p>5 rows × 22 columns</p>\n",
       "</div>"
      ],
      "text/plain": [
       "        COL 1                    COL 2   COL 3       COL 4      COL 5  \\\n",
       "0  brand_name                    model   price  avg_rating  5G_or_not   \n",
       "1       apple          Apple iPhone 11   38999         7.3          0   \n",
       "2       apple  Apple iPhone 11 (128GB)   46999         7.5          0   \n",
       "3       apple  Apple iPhone 11 Pro Max  109900         7.7          0   \n",
       "4       apple          Apple iPhone 12   51999         7.4          1   \n",
       "\n",
       "             COL 6      COL 7            COL 8             COL 9  \\\n",
       "0  processor_brand  num_cores  processor_speed  battery_capacity   \n",
       "1           bionic          6             2.65              3110   \n",
       "2           bionic          6             2.65              3110   \n",
       "3           bionic          6             2.65              3500   \n",
       "4           bionic          6              3.1                     \n",
       "\n",
       "                    COL 10  ...           COL 13       COL 14        COL 15  \\\n",
       "0  fast_charging_available  ...  internal_memory  screen_size  refresh_rate   \n",
       "1                        0  ...               64          6.1            60   \n",
       "2                        0  ...              128          6.1            60   \n",
       "3                        1  ...               64          6.5            60   \n",
       "4                        0  ...               64          6.1            60   \n",
       "\n",
       "             COL 16 COL 17               COL 18                COL 19  \\\n",
       "0  num_rear_cameras     os  primary_camera_rear  primary_camera_front   \n",
       "1                 2    ios                   12                    12   \n",
       "2                 2    ios                   12                    12   \n",
       "3                 3    ios                   12                    12   \n",
       "4                 2    ios                   12                    12   \n",
       "\n",
       "                      COL 20             COL 21            COL 22  \n",
       "0  extended_memory_available  resolution_height  resolution_width  \n",
       "1                          0               1792               828  \n",
       "2                          0               1792               828  \n",
       "3                          0               2688              1242  \n",
       "4                          0               2532              1170  \n",
       "\n",
       "[5 rows x 22 columns]"
      ]
     },
     "execution_count": 16,
     "metadata": {},
     "output_type": "execute_result"
    }
   ],
   "source": [
    "df.head()"
   ]
  },
  {
   "cell_type": "code",
   "execution_count": 18,
   "id": "858a8280",
   "metadata": {},
   "outputs": [],
   "source": [
    "headerr = df.iloc[0,]"
   ]
  },
  {
   "cell_type": "code",
   "execution_count": 19,
   "id": "b617d401",
   "metadata": {},
   "outputs": [],
   "source": [
    "df.columns = headerr"
   ]
  },
  {
   "cell_type": "code",
   "execution_count": 20,
   "id": "3b076131",
   "metadata": {},
   "outputs": [
    {
     "data": {
      "text/html": [
       "<div>\n",
       "<style scoped>\n",
       "    .dataframe tbody tr th:only-of-type {\n",
       "        vertical-align: middle;\n",
       "    }\n",
       "\n",
       "    .dataframe tbody tr th {\n",
       "        vertical-align: top;\n",
       "    }\n",
       "\n",
       "    .dataframe thead th {\n",
       "        text-align: right;\n",
       "    }\n",
       "</style>\n",
       "<table border=\"1\" class=\"dataframe\">\n",
       "  <thead>\n",
       "    <tr style=\"text-align: right;\">\n",
       "      <th></th>\n",
       "      <th>brand_name</th>\n",
       "      <th>model</th>\n",
       "      <th>price</th>\n",
       "      <th>avg_rating</th>\n",
       "      <th>5G_or_not</th>\n",
       "      <th>processor_brand</th>\n",
       "      <th>num_cores</th>\n",
       "      <th>processor_speed</th>\n",
       "      <th>battery_capacity</th>\n",
       "      <th>fast_charging_available</th>\n",
       "      <th>...</th>\n",
       "      <th>internal_memory</th>\n",
       "      <th>screen_size</th>\n",
       "      <th>refresh_rate</th>\n",
       "      <th>num_rear_cameras</th>\n",
       "      <th>os</th>\n",
       "      <th>primary_camera_rear</th>\n",
       "      <th>primary_camera_front</th>\n",
       "      <th>extended_memory_available</th>\n",
       "      <th>resolution_height</th>\n",
       "      <th>resolution_width</th>\n",
       "    </tr>\n",
       "  </thead>\n",
       "  <tbody>\n",
       "    <tr>\n",
       "      <th>0</th>\n",
       "      <td>brand_name</td>\n",
       "      <td>model</td>\n",
       "      <td>price</td>\n",
       "      <td>avg_rating</td>\n",
       "      <td>5G_or_not</td>\n",
       "      <td>processor_brand</td>\n",
       "      <td>num_cores</td>\n",
       "      <td>processor_speed</td>\n",
       "      <td>battery_capacity</td>\n",
       "      <td>fast_charging_available</td>\n",
       "      <td>...</td>\n",
       "      <td>internal_memory</td>\n",
       "      <td>screen_size</td>\n",
       "      <td>refresh_rate</td>\n",
       "      <td>num_rear_cameras</td>\n",
       "      <td>os</td>\n",
       "      <td>primary_camera_rear</td>\n",
       "      <td>primary_camera_front</td>\n",
       "      <td>extended_memory_available</td>\n",
       "      <td>resolution_height</td>\n",
       "      <td>resolution_width</td>\n",
       "    </tr>\n",
       "    <tr>\n",
       "      <th>1</th>\n",
       "      <td>apple</td>\n",
       "      <td>Apple iPhone 11</td>\n",
       "      <td>38999</td>\n",
       "      <td>7.3</td>\n",
       "      <td>0</td>\n",
       "      <td>bionic</td>\n",
       "      <td>6</td>\n",
       "      <td>2.65</td>\n",
       "      <td>3110</td>\n",
       "      <td>0</td>\n",
       "      <td>...</td>\n",
       "      <td>64</td>\n",
       "      <td>6.1</td>\n",
       "      <td>60</td>\n",
       "      <td>2</td>\n",
       "      <td>ios</td>\n",
       "      <td>12</td>\n",
       "      <td>12</td>\n",
       "      <td>0</td>\n",
       "      <td>1792</td>\n",
       "      <td>828</td>\n",
       "    </tr>\n",
       "    <tr>\n",
       "      <th>2</th>\n",
       "      <td>apple</td>\n",
       "      <td>Apple iPhone 11 (128GB)</td>\n",
       "      <td>46999</td>\n",
       "      <td>7.5</td>\n",
       "      <td>0</td>\n",
       "      <td>bionic</td>\n",
       "      <td>6</td>\n",
       "      <td>2.65</td>\n",
       "      <td>3110</td>\n",
       "      <td>0</td>\n",
       "      <td>...</td>\n",
       "      <td>128</td>\n",
       "      <td>6.1</td>\n",
       "      <td>60</td>\n",
       "      <td>2</td>\n",
       "      <td>ios</td>\n",
       "      <td>12</td>\n",
       "      <td>12</td>\n",
       "      <td>0</td>\n",
       "      <td>1792</td>\n",
       "      <td>828</td>\n",
       "    </tr>\n",
       "    <tr>\n",
       "      <th>3</th>\n",
       "      <td>apple</td>\n",
       "      <td>Apple iPhone 11 Pro Max</td>\n",
       "      <td>109900</td>\n",
       "      <td>7.7</td>\n",
       "      <td>0</td>\n",
       "      <td>bionic</td>\n",
       "      <td>6</td>\n",
       "      <td>2.65</td>\n",
       "      <td>3500</td>\n",
       "      <td>1</td>\n",
       "      <td>...</td>\n",
       "      <td>64</td>\n",
       "      <td>6.5</td>\n",
       "      <td>60</td>\n",
       "      <td>3</td>\n",
       "      <td>ios</td>\n",
       "      <td>12</td>\n",
       "      <td>12</td>\n",
       "      <td>0</td>\n",
       "      <td>2688</td>\n",
       "      <td>1242</td>\n",
       "    </tr>\n",
       "    <tr>\n",
       "      <th>4</th>\n",
       "      <td>apple</td>\n",
       "      <td>Apple iPhone 12</td>\n",
       "      <td>51999</td>\n",
       "      <td>7.4</td>\n",
       "      <td>1</td>\n",
       "      <td>bionic</td>\n",
       "      <td>6</td>\n",
       "      <td>3.1</td>\n",
       "      <td></td>\n",
       "      <td>0</td>\n",
       "      <td>...</td>\n",
       "      <td>64</td>\n",
       "      <td>6.1</td>\n",
       "      <td>60</td>\n",
       "      <td>2</td>\n",
       "      <td>ios</td>\n",
       "      <td>12</td>\n",
       "      <td>12</td>\n",
       "      <td>0</td>\n",
       "      <td>2532</td>\n",
       "      <td>1170</td>\n",
       "    </tr>\n",
       "    <tr>\n",
       "      <th>...</th>\n",
       "      <td>...</td>\n",
       "      <td>...</td>\n",
       "      <td>...</td>\n",
       "      <td>...</td>\n",
       "      <td>...</td>\n",
       "      <td>...</td>\n",
       "      <td>...</td>\n",
       "      <td>...</td>\n",
       "      <td>...</td>\n",
       "      <td>...</td>\n",
       "      <td>...</td>\n",
       "      <td>...</td>\n",
       "      <td>...</td>\n",
       "      <td>...</td>\n",
       "      <td>...</td>\n",
       "      <td>...</td>\n",
       "      <td>...</td>\n",
       "      <td>...</td>\n",
       "      <td>...</td>\n",
       "      <td>...</td>\n",
       "      <td>...</td>\n",
       "    </tr>\n",
       "    <tr>\n",
       "      <th>976</th>\n",
       "      <td>xiaomi</td>\n",
       "      <td>Xiaomi Redmi Note 9 Pro</td>\n",
       "      <td>13999</td>\n",
       "      <td>7.5</td>\n",
       "      <td>0</td>\n",
       "      <td>snapdragon</td>\n",
       "      <td>8</td>\n",
       "      <td>2.3</td>\n",
       "      <td>5020</td>\n",
       "      <td>1</td>\n",
       "      <td>...</td>\n",
       "      <td>64</td>\n",
       "      <td>6.67</td>\n",
       "      <td>60</td>\n",
       "      <td>4</td>\n",
       "      <td>android</td>\n",
       "      <td>48</td>\n",
       "      <td>16</td>\n",
       "      <td>1</td>\n",
       "      <td>2400</td>\n",
       "      <td>1080</td>\n",
       "    </tr>\n",
       "    <tr>\n",
       "      <th>977</th>\n",
       "      <td>xiaomi</td>\n",
       "      <td>Xiaomi Redmi Note 9 Pro (4GB RAM + 128GB)</td>\n",
       "      <td>14439</td>\n",
       "      <td>7.7</td>\n",
       "      <td>0</td>\n",
       "      <td>snapdragon</td>\n",
       "      <td>8</td>\n",
       "      <td>2.3</td>\n",
       "      <td>5020</td>\n",
       "      <td>1</td>\n",
       "      <td>...</td>\n",
       "      <td>128</td>\n",
       "      <td>6.67</td>\n",
       "      <td>60</td>\n",
       "      <td>4</td>\n",
       "      <td>android</td>\n",
       "      <td>48</td>\n",
       "      <td>16</td>\n",
       "      <td>1</td>\n",
       "      <td>2400</td>\n",
       "      <td>1080</td>\n",
       "    </tr>\n",
       "    <tr>\n",
       "      <th>978</th>\n",
       "      <td>xiaomi</td>\n",
       "      <td>Xiaomi Redmi Note 9 Pro Max</td>\n",
       "      <td>16490</td>\n",
       "      <td>8</td>\n",
       "      <td>0</td>\n",
       "      <td>snapdragon</td>\n",
       "      <td>8</td>\n",
       "      <td>2.3</td>\n",
       "      <td>5020</td>\n",
       "      <td>1</td>\n",
       "      <td>...</td>\n",
       "      <td>64</td>\n",
       "      <td>6.67</td>\n",
       "      <td>60</td>\n",
       "      <td>4</td>\n",
       "      <td>android</td>\n",
       "      <td>64</td>\n",
       "      <td>32</td>\n",
       "      <td>1</td>\n",
       "      <td>2400</td>\n",
       "      <td>1080</td>\n",
       "    </tr>\n",
       "    <tr>\n",
       "      <th>979</th>\n",
       "      <td>zte</td>\n",
       "      <td>ZTE Axon 30S</td>\n",
       "      <td>19999</td>\n",
       "      <td>8.2</td>\n",
       "      <td>1</td>\n",
       "      <td>snapdragon</td>\n",
       "      <td>8</td>\n",
       "      <td>3.2</td>\n",
       "      <td>4200</td>\n",
       "      <td>1</td>\n",
       "      <td>...</td>\n",
       "      <td>128</td>\n",
       "      <td>6.9</td>\n",
       "      <td>120</td>\n",
       "      <td>4</td>\n",
       "      <td>android</td>\n",
       "      <td>50</td>\n",
       "      <td>16</td>\n",
       "      <td>1</td>\n",
       "      <td>2460</td>\n",
       "      <td>1080</td>\n",
       "    </tr>\n",
       "    <tr>\n",
       "      <th>980</th>\n",
       "      <td>zte</td>\n",
       "      <td>ZTE Axon 40 Ultra 5G</td>\n",
       "      <td>61990</td>\n",
       "      <td>8.9</td>\n",
       "      <td>1</td>\n",
       "      <td>snapdragon</td>\n",
       "      <td>8</td>\n",
       "      <td>3</td>\n",
       "      <td>5000</td>\n",
       "      <td>1</td>\n",
       "      <td>...</td>\n",
       "      <td>128</td>\n",
       "      <td>6.8</td>\n",
       "      <td>120</td>\n",
       "      <td>3</td>\n",
       "      <td>android</td>\n",
       "      <td>64</td>\n",
       "      <td>16</td>\n",
       "      <td>0</td>\n",
       "      <td>2480</td>\n",
       "      <td>1116</td>\n",
       "    </tr>\n",
       "  </tbody>\n",
       "</table>\n",
       "<p>981 rows × 22 columns</p>\n",
       "</div>"
      ],
      "text/plain": [
       "0    brand_name                                      model   price  \\\n",
       "0    brand_name                                      model   price   \n",
       "1         apple                            Apple iPhone 11   38999   \n",
       "2         apple                    Apple iPhone 11 (128GB)   46999   \n",
       "3         apple                    Apple iPhone 11 Pro Max  109900   \n",
       "4         apple                            Apple iPhone 12   51999   \n",
       "..          ...                                        ...     ...   \n",
       "976      xiaomi                    Xiaomi Redmi Note 9 Pro   13999   \n",
       "977      xiaomi  Xiaomi Redmi Note 9 Pro (4GB RAM + 128GB)   14439   \n",
       "978      xiaomi                Xiaomi Redmi Note 9 Pro Max   16490   \n",
       "979         zte                               ZTE Axon 30S   19999   \n",
       "980         zte                       ZTE Axon 40 Ultra 5G   61990   \n",
       "\n",
       "0    avg_rating  5G_or_not  processor_brand  num_cores  processor_speed  \\\n",
       "0    avg_rating  5G_or_not  processor_brand  num_cores  processor_speed   \n",
       "1           7.3          0           bionic          6             2.65   \n",
       "2           7.5          0           bionic          6             2.65   \n",
       "3           7.7          0           bionic          6             2.65   \n",
       "4           7.4          1           bionic          6              3.1   \n",
       "..          ...        ...              ...        ...              ...   \n",
       "976         7.5          0       snapdragon          8              2.3   \n",
       "977         7.7          0       snapdragon          8              2.3   \n",
       "978           8          0       snapdragon          8              2.3   \n",
       "979         8.2          1       snapdragon          8              3.2   \n",
       "980         8.9          1       snapdragon          8                3   \n",
       "\n",
       "0    battery_capacity  fast_charging_available  ...  internal_memory  \\\n",
       "0    battery_capacity  fast_charging_available  ...  internal_memory   \n",
       "1                3110                        0  ...               64   \n",
       "2                3110                        0  ...              128   \n",
       "3                3500                        1  ...               64   \n",
       "4                                            0  ...               64   \n",
       "..                ...                      ...  ...              ...   \n",
       "976              5020                        1  ...               64   \n",
       "977              5020                        1  ...              128   \n",
       "978              5020                        1  ...               64   \n",
       "979              4200                        1  ...              128   \n",
       "980              5000                        1  ...              128   \n",
       "\n",
       "0    screen_size  refresh_rate  num_rear_cameras       os  \\\n",
       "0    screen_size  refresh_rate  num_rear_cameras       os   \n",
       "1            6.1            60                 2      ios   \n",
       "2            6.1            60                 2      ios   \n",
       "3            6.5            60                 3      ios   \n",
       "4            6.1            60                 2      ios   \n",
       "..           ...           ...               ...      ...   \n",
       "976         6.67            60                 4  android   \n",
       "977         6.67            60                 4  android   \n",
       "978         6.67            60                 4  android   \n",
       "979          6.9           120                 4  android   \n",
       "980          6.8           120                 3  android   \n",
       "\n",
       "0    primary_camera_rear  primary_camera_front  extended_memory_available  \\\n",
       "0    primary_camera_rear  primary_camera_front  extended_memory_available   \n",
       "1                     12                    12                          0   \n",
       "2                     12                    12                          0   \n",
       "3                     12                    12                          0   \n",
       "4                     12                    12                          0   \n",
       "..                   ...                   ...                        ...   \n",
       "976                   48                    16                          1   \n",
       "977                   48                    16                          1   \n",
       "978                   64                    32                          1   \n",
       "979                   50                    16                          1   \n",
       "980                   64                    16                          0   \n",
       "\n",
       "0    resolution_height  resolution_width  \n",
       "0    resolution_height  resolution_width  \n",
       "1                 1792               828  \n",
       "2                 1792               828  \n",
       "3                 2688              1242  \n",
       "4                 2532              1170  \n",
       "..                 ...               ...  \n",
       "976               2400              1080  \n",
       "977               2400              1080  \n",
       "978               2400              1080  \n",
       "979               2460              1080  \n",
       "980               2480              1116  \n",
       "\n",
       "[981 rows x 22 columns]"
      ]
     },
     "execution_count": 20,
     "metadata": {},
     "output_type": "execute_result"
    }
   ],
   "source": [
    "df"
   ]
  },
  {
   "cell_type": "code",
   "execution_count": 23,
   "id": "9c4080e3",
   "metadata": {},
   "outputs": [],
   "source": [
    "df = df.iloc[1::]"
   ]
  },
  {
   "cell_type": "code",
   "execution_count": 26,
   "id": "92561d78",
   "metadata": {},
   "outputs": [],
   "source": [
    "df.to_csv('smartphones.csv',index=False)"
   ]
  },
  {
   "cell_type": "code",
   "execution_count": 38,
   "id": "0fd08a35",
   "metadata": {},
   "outputs": [
    {
     "data": {
      "text/html": [
       "<div>\n",
       "<style scoped>\n",
       "    .dataframe tbody tr th:only-of-type {\n",
       "        vertical-align: middle;\n",
       "    }\n",
       "\n",
       "    .dataframe tbody tr th {\n",
       "        vertical-align: top;\n",
       "    }\n",
       "\n",
       "    .dataframe thead th {\n",
       "        text-align: right;\n",
       "    }\n",
       "</style>\n",
       "<table border=\"1\" class=\"dataframe\">\n",
       "  <thead>\n",
       "    <tr style=\"text-align: right;\">\n",
       "      <th></th>\n",
       "      <th>brand_name</th>\n",
       "      <th>model</th>\n",
       "      <th>price</th>\n",
       "      <th>avg_rating</th>\n",
       "      <th>5G_or_not</th>\n",
       "      <th>processor_brand</th>\n",
       "      <th>num_cores</th>\n",
       "      <th>processor_speed</th>\n",
       "      <th>battery_capacity</th>\n",
       "      <th>fast_charging_available</th>\n",
       "      <th>...</th>\n",
       "      <th>internal_memory</th>\n",
       "      <th>screen_size</th>\n",
       "      <th>refresh_rate</th>\n",
       "      <th>num_rear_cameras</th>\n",
       "      <th>os</th>\n",
       "      <th>primary_camera_rear</th>\n",
       "      <th>primary_camera_front</th>\n",
       "      <th>extended_memory_available</th>\n",
       "      <th>resolution_height</th>\n",
       "      <th>resolution_width</th>\n",
       "    </tr>\n",
       "  </thead>\n",
       "  <tbody>\n",
       "    <tr>\n",
       "      <th>1</th>\n",
       "      <td>apple</td>\n",
       "      <td>Apple iPhone 11</td>\n",
       "      <td>38999</td>\n",
       "      <td>7.3</td>\n",
       "      <td>0</td>\n",
       "      <td>bionic</td>\n",
       "      <td>6</td>\n",
       "      <td>2.65</td>\n",
       "      <td>3110</td>\n",
       "      <td>0</td>\n",
       "      <td>...</td>\n",
       "      <td>64</td>\n",
       "      <td>6.1</td>\n",
       "      <td>60</td>\n",
       "      <td>2</td>\n",
       "      <td>ios</td>\n",
       "      <td>12</td>\n",
       "      <td>12</td>\n",
       "      <td>0</td>\n",
       "      <td>1792</td>\n",
       "      <td>828</td>\n",
       "    </tr>\n",
       "    <tr>\n",
       "      <th>2</th>\n",
       "      <td>apple</td>\n",
       "      <td>Apple iPhone 11 (128GB)</td>\n",
       "      <td>46999</td>\n",
       "      <td>7.5</td>\n",
       "      <td>0</td>\n",
       "      <td>bionic</td>\n",
       "      <td>6</td>\n",
       "      <td>2.65</td>\n",
       "      <td>3110</td>\n",
       "      <td>0</td>\n",
       "      <td>...</td>\n",
       "      <td>128</td>\n",
       "      <td>6.1</td>\n",
       "      <td>60</td>\n",
       "      <td>2</td>\n",
       "      <td>ios</td>\n",
       "      <td>12</td>\n",
       "      <td>12</td>\n",
       "      <td>0</td>\n",
       "      <td>1792</td>\n",
       "      <td>828</td>\n",
       "    </tr>\n",
       "    <tr>\n",
       "      <th>3</th>\n",
       "      <td>apple</td>\n",
       "      <td>Apple iPhone 11 Pro Max</td>\n",
       "      <td>109900</td>\n",
       "      <td>7.7</td>\n",
       "      <td>0</td>\n",
       "      <td>bionic</td>\n",
       "      <td>6</td>\n",
       "      <td>2.65</td>\n",
       "      <td>3500</td>\n",
       "      <td>1</td>\n",
       "      <td>...</td>\n",
       "      <td>64</td>\n",
       "      <td>6.5</td>\n",
       "      <td>60</td>\n",
       "      <td>3</td>\n",
       "      <td>ios</td>\n",
       "      <td>12</td>\n",
       "      <td>12</td>\n",
       "      <td>0</td>\n",
       "      <td>2688</td>\n",
       "      <td>1242</td>\n",
       "    </tr>\n",
       "    <tr>\n",
       "      <th>4</th>\n",
       "      <td>apple</td>\n",
       "      <td>Apple iPhone 12</td>\n",
       "      <td>51999</td>\n",
       "      <td>7.4</td>\n",
       "      <td>1</td>\n",
       "      <td>bionic</td>\n",
       "      <td>6</td>\n",
       "      <td>3.1</td>\n",
       "      <td></td>\n",
       "      <td>0</td>\n",
       "      <td>...</td>\n",
       "      <td>64</td>\n",
       "      <td>6.1</td>\n",
       "      <td>60</td>\n",
       "      <td>2</td>\n",
       "      <td>ios</td>\n",
       "      <td>12</td>\n",
       "      <td>12</td>\n",
       "      <td>0</td>\n",
       "      <td>2532</td>\n",
       "      <td>1170</td>\n",
       "    </tr>\n",
       "    <tr>\n",
       "      <th>5</th>\n",
       "      <td>apple</td>\n",
       "      <td>Apple iPhone 12 (128GB)</td>\n",
       "      <td>55999</td>\n",
       "      <td>7.5</td>\n",
       "      <td>1</td>\n",
       "      <td>bionic</td>\n",
       "      <td>6</td>\n",
       "      <td>3.1</td>\n",
       "      <td></td>\n",
       "      <td>0</td>\n",
       "      <td>...</td>\n",
       "      <td>128</td>\n",
       "      <td>6.1</td>\n",
       "      <td>60</td>\n",
       "      <td>2</td>\n",
       "      <td>ios</td>\n",
       "      <td>12</td>\n",
       "      <td>12</td>\n",
       "      <td>0</td>\n",
       "      <td>2532</td>\n",
       "      <td>1170</td>\n",
       "    </tr>\n",
       "  </tbody>\n",
       "</table>\n",
       "<p>5 rows × 22 columns</p>\n",
       "</div>"
      ],
      "text/plain": [
       "0 brand_name                    model   price avg_rating 5G_or_not  \\\n",
       "1      apple          Apple iPhone 11   38999        7.3         0   \n",
       "2      apple  Apple iPhone 11 (128GB)   46999        7.5         0   \n",
       "3      apple  Apple iPhone 11 Pro Max  109900        7.7         0   \n",
       "4      apple          Apple iPhone 12   51999        7.4         1   \n",
       "5      apple  Apple iPhone 12 (128GB)   55999        7.5         1   \n",
       "\n",
       "0 processor_brand num_cores processor_speed battery_capacity  \\\n",
       "1          bionic         6            2.65             3110   \n",
       "2          bionic         6            2.65             3110   \n",
       "3          bionic         6            2.65             3500   \n",
       "4          bionic         6             3.1                    \n",
       "5          bionic         6             3.1                    \n",
       "\n",
       "0 fast_charging_available  ... internal_memory screen_size refresh_rate  \\\n",
       "1                       0  ...              64         6.1           60   \n",
       "2                       0  ...             128         6.1           60   \n",
       "3                       1  ...              64         6.5           60   \n",
       "4                       0  ...              64         6.1           60   \n",
       "5                       0  ...             128         6.1           60   \n",
       "\n",
       "0 num_rear_cameras   os primary_camera_rear primary_camera_front  \\\n",
       "1                2  ios                  12                   12   \n",
       "2                2  ios                  12                   12   \n",
       "3                3  ios                  12                   12   \n",
       "4                2  ios                  12                   12   \n",
       "5                2  ios                  12                   12   \n",
       "\n",
       "0 extended_memory_available resolution_height resolution_width  \n",
       "1                         0              1792              828  \n",
       "2                         0              1792              828  \n",
       "3                         0              2688             1242  \n",
       "4                         0              2532             1170  \n",
       "5                         0              2532             1170  \n",
       "\n",
       "[5 rows x 22 columns]"
      ]
     },
     "execution_count": 38,
     "metadata": {},
     "output_type": "execute_result"
    }
   ],
   "source": [
    "df.head()"
   ]
  },
  {
   "cell_type": "markdown",
   "id": "193bcf93",
   "metadata": {},
   "source": [
    "## FOR CATEGORICAL  COLUMNS WE HAVE TWO PLOTS "
   ]
  },
  {
   "cell_type": "markdown",
   "id": "3989ad10",
   "metadata": {},
   "source": [
    "##  1. sns.countplot()\n"
   ]
  },
  {
   "cell_type": "markdown",
   "id": "90e68671",
   "metadata": {},
   "source": [
    "## 2. sns.pie()"
   ]
  },
  {
   "cell_type": "code",
   "execution_count": null,
   "id": "02dac985",
   "metadata": {},
   "outputs": [],
   "source": []
  },
  {
   "cell_type": "code",
   "execution_count": 34,
   "id": "3c73eee4",
   "metadata": {},
   "outputs": [
    {
     "data": {
      "text/plain": [
       "<AxesSubplot:xlabel='count', ylabel='processor_brand'>"
      ]
     },
     "execution_count": 34,
     "metadata": {},
     "output_type": "execute_result"
    },
    {
     "data": {
      "image/png": "[encoded data removed]",
      "text/plain": [
       "<Figure size 640x480 with 1 Axes>"
      ]
     },
     "metadata": {},
     "output_type": "display_data"
    }
   ],
   "source": [
    "sns.countplot(y='processor_brand',data = df)"
   ]
  },
  {
   "cell_type": "code",
   "execution_count": 36,
   "id": "87f35c27",
   "metadata": {},
   "outputs": [
    {
     "data": {
      "text/plain": [
       "<AxesSubplot:xlabel='os', ylabel='count'>"
      ]
     },
     "execution_count": 36,
     "metadata": {},
     "output_type": "execute_result"
    },
    {
     "data": {
      "image/png": "[encoded data removed]",
      "text/plain": [
       "<Figure size 640x480 with 1 Axes>"
      ]
     },
     "metadata": {},
     "output_type": "display_data"
    }
   ],
   "source": [
    "# this countplot show the count of each category \n",
    "sns.countplot(x='os',data = df)"
   ]
  },
  {
   "cell_type": "markdown",
   "id": "977c95bf",
   "metadata": {},
   "source": [
    "### sns.pie()"
   ]
  },
  {
   "cell_type": "markdown",
   "id": "c7463a5a",
   "metadata": {},
   "source": [
    "* It show the result of each categorical column in percentage for out of 100"
   ]
  },
  {
   "cell_type": "code",
   "execution_count": 62,
   "id": "85029c60",
   "metadata": {},
   "outputs": [
    {
     "data": {
      "text/plain": [
       "<AxesSubplot:ylabel='os'>"
      ]
     },
     "execution_count": 62,
     "metadata": {},
     "output_type": "execute_result"
    },
    {
     "data": {
      "image/png": "[encoded data removed]",
      "text/plain": [
       "<Figure size 640x480 with 1 Axes>"
      ]
     },
     "metadata": {},
     "output_type": "display_data"
    }
   ],
   "source": [
    "df['os'].value_counts().plot(kind='pie',autopct='%.2f%%',)"
   ]
  },
  {
   "cell_type": "code",
   "execution_count": 70,
   "id": "28aee671",
   "metadata": {},
   "outputs": [
    {
     "data": {
      "image/png": "[encoded data removed]",
      "text/plain": [
       "<Figure size 640x480 with 1 Axes>"
      ]
     },
     "metadata": {},
     "output_type": "display_data"
    }
   ],
   "source": [
    "plt.pie(df.os.value_counts(),labels=df.os.value_counts().index,autopct='%1.2f%%')\n",
    "plt.show()"
   ]
  },
  {
   "cell_type": "code",
   "execution_count": 69,
   "id": "51bad27f",
   "metadata": {},
   "outputs": [
    {
     "data": {
      "text/plain": [
       "Index(['android', 'ios', '', 'other'], dtype='object')"
      ]
     },
     "execution_count": 69,
     "metadata": {},
     "output_type": "execute_result"
    }
   ],
   "source": [
    "df.os.value_counts().index"
   ]
  },
  {
   "cell_type": "markdown",
   "id": "1e42550d",
   "metadata": {},
   "source": [
    "# UNIVARIATE ANALYSIS ON NUMERICAL DATA"
   ]
  },
  {
   "cell_type": "markdown",
   "id": "9051e509",
   "metadata": {},
   "source": [
    "### 1. HISTOGRAM"
   ]
  },
  {
   "cell_type": "code",
   "execution_count": null,
   "id": "b5d27868",
   "metadata": {},
   "outputs": [],
   "source": [
    "# using histogram you would behave numerical data like a categorical data by creating bins (range)\n",
    "\n",
    "# like if we have a dataset in which  weight of a person is min 10 and max 70 \n",
    "# now you want to make a distribution of this and create a range from [1-10,10-20,20,30,30-40,40-50,50-60,60-70]\n",
    "\n",
    "# then you see that b/w 10-20 how many people weight lies and so on."
   ]
  },
  {
   "cell_type": "code",
   "execution_count": 71,
   "id": "27ef7a4f",
   "metadata": {},
   "outputs": [
    {
     "data": {
      "text/html": [
       "<div>\n",
       "<style scoped>\n",
       "    .dataframe tbody tr th:only-of-type {\n",
       "        vertical-align: middle;\n",
       "    }\n",
       "\n",
       "    .dataframe tbody tr th {\n",
       "        vertical-align: top;\n",
       "    }\n",
       "\n",
       "    .dataframe thead th {\n",
       "        text-align: right;\n",
       "    }\n",
       "</style>\n",
       "<table border=\"1\" class=\"dataframe\">\n",
       "  <thead>\n",
       "    <tr style=\"text-align: right;\">\n",
       "      <th></th>\n",
       "      <th>brand_name</th>\n",
       "      <th>model</th>\n",
       "      <th>price</th>\n",
       "      <th>avg_rating</th>\n",
       "      <th>5G_or_not</th>\n",
       "      <th>processor_brand</th>\n",
       "      <th>num_cores</th>\n",
       "      <th>processor_speed</th>\n",
       "      <th>battery_capacity</th>\n",
       "      <th>fast_charging_available</th>\n",
       "      <th>...</th>\n",
       "      <th>internal_memory</th>\n",
       "      <th>screen_size</th>\n",
       "      <th>refresh_rate</th>\n",
       "      <th>num_rear_cameras</th>\n",
       "      <th>os</th>\n",
       "      <th>primary_camera_rear</th>\n",
       "      <th>primary_camera_front</th>\n",
       "      <th>extended_memory_available</th>\n",
       "      <th>resolution_height</th>\n",
       "      <th>resolution_width</th>\n",
       "    </tr>\n",
       "  </thead>\n",
       "  <tbody>\n",
       "    <tr>\n",
       "      <th>1</th>\n",
       "      <td>apple</td>\n",
       "      <td>Apple iPhone 11</td>\n",
       "      <td>38999</td>\n",
       "      <td>7.3</td>\n",
       "      <td>0</td>\n",
       "      <td>bionic</td>\n",
       "      <td>6</td>\n",
       "      <td>2.65</td>\n",
       "      <td>3110</td>\n",
       "      <td>0</td>\n",
       "      <td>...</td>\n",
       "      <td>64</td>\n",
       "      <td>6.1</td>\n",
       "      <td>60</td>\n",
       "      <td>2</td>\n",
       "      <td>ios</td>\n",
       "      <td>12</td>\n",
       "      <td>12</td>\n",
       "      <td>0</td>\n",
       "      <td>1792</td>\n",
       "      <td>828</td>\n",
       "    </tr>\n",
       "    <tr>\n",
       "      <th>2</th>\n",
       "      <td>apple</td>\n",
       "      <td>Apple iPhone 11 (128GB)</td>\n",
       "      <td>46999</td>\n",
       "      <td>7.5</td>\n",
       "      <td>0</td>\n",
       "      <td>bionic</td>\n",
       "      <td>6</td>\n",
       "      <td>2.65</td>\n",
       "      <td>3110</td>\n",
       "      <td>0</td>\n",
       "      <td>...</td>\n",
       "      <td>128</td>\n",
       "      <td>6.1</td>\n",
       "      <td>60</td>\n",
       "      <td>2</td>\n",
       "      <td>ios</td>\n",
       "      <td>12</td>\n",
       "      <td>12</td>\n",
       "      <td>0</td>\n",
       "      <td>1792</td>\n",
       "      <td>828</td>\n",
       "    </tr>\n",
       "    <tr>\n",
       "      <th>3</th>\n",
       "      <td>apple</td>\n",
       "      <td>Apple iPhone 11 Pro Max</td>\n",
       "      <td>109900</td>\n",
       "      <td>7.7</td>\n",
       "      <td>0</td>\n",
       "      <td>bionic</td>\n",
       "      <td>6</td>\n",
       "      <td>2.65</td>\n",
       "      <td>3500</td>\n",
       "      <td>1</td>\n",
       "      <td>...</td>\n",
       "      <td>64</td>\n",
       "      <td>6.5</td>\n",
       "      <td>60</td>\n",
       "      <td>3</td>\n",
       "      <td>ios</td>\n",
       "      <td>12</td>\n",
       "      <td>12</td>\n",
       "      <td>0</td>\n",
       "      <td>2688</td>\n",
       "      <td>1242</td>\n",
       "    </tr>\n",
       "    <tr>\n",
       "      <th>4</th>\n",
       "      <td>apple</td>\n",
       "      <td>Apple iPhone 12</td>\n",
       "      <td>51999</td>\n",
       "      <td>7.4</td>\n",
       "      <td>1</td>\n",
       "      <td>bionic</td>\n",
       "      <td>6</td>\n",
       "      <td>3.1</td>\n",
       "      <td></td>\n",
       "      <td>0</td>\n",
       "      <td>...</td>\n",
       "      <td>64</td>\n",
       "      <td>6.1</td>\n",
       "      <td>60</td>\n",
       "      <td>2</td>\n",
       "      <td>ios</td>\n",
       "      <td>12</td>\n",
       "      <td>12</td>\n",
       "      <td>0</td>\n",
       "      <td>2532</td>\n",
       "      <td>1170</td>\n",
       "    </tr>\n",
       "    <tr>\n",
       "      <th>5</th>\n",
       "      <td>apple</td>\n",
       "      <td>Apple iPhone 12 (128GB)</td>\n",
       "      <td>55999</td>\n",
       "      <td>7.5</td>\n",
       "      <td>1</td>\n",
       "      <td>bionic</td>\n",
       "      <td>6</td>\n",
       "      <td>3.1</td>\n",
       "      <td></td>\n",
       "      <td>0</td>\n",
       "      <td>...</td>\n",
       "      <td>128</td>\n",
       "      <td>6.1</td>\n",
       "      <td>60</td>\n",
       "      <td>2</td>\n",
       "      <td>ios</td>\n",
       "      <td>12</td>\n",
       "      <td>12</td>\n",
       "      <td>0</td>\n",
       "      <td>2532</td>\n",
       "      <td>1170</td>\n",
       "    </tr>\n",
       "  </tbody>\n",
       "</table>\n",
       "<p>5 rows × 22 columns</p>\n",
       "</div>"
      ],
      "text/plain": [
       "0 brand_name                    model   price avg_rating 5G_or_not  \\\n",
       "1      apple          Apple iPhone 11   38999        7.3         0   \n",
       "2      apple  Apple iPhone 11 (128GB)   46999        7.5         0   \n",
       "3      apple  Apple iPhone 11 Pro Max  109900        7.7         0   \n",
       "4      apple          Apple iPhone 12   51999        7.4         1   \n",
       "5      apple  Apple iPhone 12 (128GB)   55999        7.5         1   \n",
       "\n",
       "0 processor_brand num_cores processor_speed battery_capacity  \\\n",
       "1          bionic         6            2.65             3110   \n",
       "2          bionic         6            2.65             3110   \n",
       "3          bionic         6            2.65             3500   \n",
       "4          bionic         6             3.1                    \n",
       "5          bionic         6             3.1                    \n",
       "\n",
       "0 fast_charging_available  ... internal_memory screen_size refresh_rate  \\\n",
       "1                       0  ...              64         6.1           60   \n",
       "2                       0  ...             128         6.1           60   \n",
       "3                       1  ...              64         6.5           60   \n",
       "4                       0  ...              64         6.1           60   \n",
       "5                       0  ...             128         6.1           60   \n",
       "\n",
       "0 num_rear_cameras   os primary_camera_rear primary_camera_front  \\\n",
       "1                2  ios                  12                   12   \n",
       "2                2  ios                  12                   12   \n",
       "3                3  ios                  12                   12   \n",
       "4                2  ios                  12                   12   \n",
       "5                2  ios                  12                   12   \n",
       "\n",
       "0 extended_memory_available resolution_height resolution_width  \n",
       "1                         0              1792              828  \n",
       "2                         0              1792              828  \n",
       "3                         0              2688             1242  \n",
       "4                         0              2532             1170  \n",
       "5                         0              2532             1170  \n",
       "\n",
       "[5 rows x 22 columns]"
      ]
     },
     "execution_count": 71,
     "metadata": {},
     "output_type": "execute_result"
    }
   ],
   "source": [
    "df.head()"
   ]
  },
  {
   "cell_type": "code",
   "execution_count": 78,
   "id": "372b6372",
   "metadata": {},
   "outputs": [],
   "source": [
    "dff = pd.read_csv('batter.csv')"
   ]
  },
  {
   "cell_type": "code",
   "execution_count": 79,
   "id": "55fdf898",
   "metadata": {},
   "outputs": [
    {
     "data": {
      "text/plain": [
       "(array([ 48., 106., 250., 179.,  18.,   2.,   1.,   0.,   0.,   1.]),\n",
       " array([  0.,  40.,  80., 120., 160., 200., 240., 280., 320., 360., 400.]),\n",
       " <BarContainer object of 10 artists>)"
      ]
     },
     "execution_count": 79,
     "metadata": {},
     "output_type": "execute_result"
    },
    {
     "data": {
      "image/png": "[encoded data removed]",
      "text/plain": [
       "<Figure size 640x480 with 1 Axes>"
      ]
     },
     "metadata": {},
     "output_type": "display_data"
    }
   ],
   "source": [
    "plt.hist(dff['strike_rate'])"
   ]
  },
  {
   "cell_type": "code",
   "execution_count": 81,
   "id": "c1c5d64c",
   "metadata": {},
   "outputs": [
    {
     "data": {
      "text/html": [
       "<div>\n",
       "<style scoped>\n",
       "    .dataframe tbody tr th:only-of-type {\n",
       "        vertical-align: middle;\n",
       "    }\n",
       "\n",
       "    .dataframe tbody tr th {\n",
       "        vertical-align: top;\n",
       "    }\n",
       "\n",
       "    .dataframe thead th {\n",
       "        text-align: right;\n",
       "    }\n",
       "</style>\n",
       "<table border=\"1\" class=\"dataframe\">\n",
       "  <thead>\n",
       "    <tr style=\"text-align: right;\">\n",
       "      <th></th>\n",
       "      <th>batter</th>\n",
       "      <th>runs</th>\n",
       "      <th>avg</th>\n",
       "      <th>strike_rate</th>\n",
       "    </tr>\n",
       "  </thead>\n",
       "  <tbody>\n",
       "    <tr>\n",
       "      <th>0</th>\n",
       "      <td>V Kohli</td>\n",
       "      <td>6634</td>\n",
       "      <td>36.251366</td>\n",
       "      <td>125.977972</td>\n",
       "    </tr>\n",
       "    <tr>\n",
       "      <th>1</th>\n",
       "      <td>S Dhawan</td>\n",
       "      <td>6244</td>\n",
       "      <td>34.882682</td>\n",
       "      <td>122.840842</td>\n",
       "    </tr>\n",
       "    <tr>\n",
       "      <th>2</th>\n",
       "      <td>DA Warner</td>\n",
       "      <td>5883</td>\n",
       "      <td>41.429577</td>\n",
       "      <td>136.401577</td>\n",
       "    </tr>\n",
       "    <tr>\n",
       "      <th>3</th>\n",
       "      <td>RG Sharma</td>\n",
       "      <td>5881</td>\n",
       "      <td>30.314433</td>\n",
       "      <td>126.964594</td>\n",
       "    </tr>\n",
       "    <tr>\n",
       "      <th>4</th>\n",
       "      <td>SK Raina</td>\n",
       "      <td>5536</td>\n",
       "      <td>32.374269</td>\n",
       "      <td>132.535312</td>\n",
       "    </tr>\n",
       "    <tr>\n",
       "      <th>...</th>\n",
       "      <td>...</td>\n",
       "      <td>...</td>\n",
       "      <td>...</td>\n",
       "      <td>...</td>\n",
       "    </tr>\n",
       "    <tr>\n",
       "      <th>600</th>\n",
       "      <td>C Nanda</td>\n",
       "      <td>0</td>\n",
       "      <td>0.000000</td>\n",
       "      <td>0.000000</td>\n",
       "    </tr>\n",
       "    <tr>\n",
       "      <th>601</th>\n",
       "      <td>Akash Deep</td>\n",
       "      <td>0</td>\n",
       "      <td>0.000000</td>\n",
       "      <td>0.000000</td>\n",
       "    </tr>\n",
       "    <tr>\n",
       "      <th>602</th>\n",
       "      <td>S Ladda</td>\n",
       "      <td>0</td>\n",
       "      <td>0.000000</td>\n",
       "      <td>0.000000</td>\n",
       "    </tr>\n",
       "    <tr>\n",
       "      <th>603</th>\n",
       "      <td>V Pratap Singh</td>\n",
       "      <td>0</td>\n",
       "      <td>0.000000</td>\n",
       "      <td>0.000000</td>\n",
       "    </tr>\n",
       "    <tr>\n",
       "      <th>604</th>\n",
       "      <td>S Lamichhane</td>\n",
       "      <td>0</td>\n",
       "      <td>0.000000</td>\n",
       "      <td>0.000000</td>\n",
       "    </tr>\n",
       "  </tbody>\n",
       "</table>\n",
       "<p>605 rows × 4 columns</p>\n",
       "</div>"
      ],
      "text/plain": [
       "             batter  runs        avg  strike_rate\n",
       "0           V Kohli  6634  36.251366   125.977972\n",
       "1          S Dhawan  6244  34.882682   122.840842\n",
       "2         DA Warner  5883  41.429577   136.401577\n",
       "3         RG Sharma  5881  30.314433   126.964594\n",
       "4          SK Raina  5536  32.374269   132.535312\n",
       "..              ...   ...        ...          ...\n",
       "600         C Nanda     0   0.000000     0.000000\n",
       "601      Akash Deep     0   0.000000     0.000000\n",
       "602         S Ladda     0   0.000000     0.000000\n",
       "603  V Pratap Singh     0   0.000000     0.000000\n",
       "604    S Lamichhane     0   0.000000     0.000000\n",
       "\n",
       "[605 rows x 4 columns]"
      ]
     },
     "execution_count": 81,
     "metadata": {},
     "output_type": "execute_result"
    }
   ],
   "source": [
    "dff"
   ]
  },
  {
   "cell_type": "code",
   "execution_count": 80,
   "id": "4ca37177",
   "metadata": {},
   "outputs": [
    {
     "data": {
      "text/plain": [
       "(array([241., 360.,   3.]),\n",
       " array([  0, 100, 200, 300]),\n",
       " <BarContainer object of 3 artists>)"
      ]
     },
     "execution_count": 80,
     "metadata": {},
     "output_type": "execute_result"
    },
    {
     "data": {
      "image/png": "[encoded data removed]",
      "text/plain": [
       "<Figure size 640x480 with 1 Axes>"
      ]
     },
     "metadata": {},
     "output_type": "display_data"
    }
   ],
   "source": [
    "# you can also adjust the bins(ranges)\n",
    "\n",
    "plt.hist(dff['strike_rate'],bins=[0,100,200,300])"
   ]
  },
  {
   "cell_type": "markdown",
   "id": "3e119864",
   "metadata": {},
   "source": [
    "### 2.Displot "
   ]
  },
  {
   "cell_type": "code",
   "execution_count": 83,
   "id": "174909ee",
   "metadata": {},
   "outputs": [
    {
     "name": "stderr",
     "output_type": "stream",
     "text": [
      "C:\\Users\\PMYLS\\anaconda3\\lib\\site-packages\\seaborn\\distributions.py:2619: FutureWarning: `distplot` is a deprecated function and will be removed in a future version. Please adapt your code to use either `displot` (a figure-level function with similar flexibility) or `histplot` (an axes-level function for histograms).\n",
      "  warnings.warn(msg, FutureWarning)\n"
     ]
    },
    {
     "data": {
      "text/plain": [
       "<AxesSubplot:xlabel='avg', ylabel='Density'>"
      ]
     },
     "execution_count": 83,
     "metadata": {},
     "output_type": "execute_result"
    },
    {
     "data": {
      "image/png": "[encoded data removed]",
      "text/plain": [
       "<Figure size 640x480 with 1 Axes>"
      ]
     },
     "metadata": {},
     "output_type": "display_data"
    }
   ],
   "source": [
    "# it is also a kind of histogram + kde(curve=pdf=probability density function) is displot\n",
    "\n",
    "# displot also tell you about the skew ness of your data\n",
    "sns.distplot(dff['avg'])\n"
   ]
  },
  {
   "cell_type": "markdown",
   "id": "6aaa04f1",
   "metadata": {},
   "source": [
    "### 3.Boxplot"
   ]
  },
  {
   "cell_type": "code",
   "execution_count": 85,
   "id": "a3221ab4",
   "metadata": {},
   "outputs": [
    {
     "name": "stderr",
     "output_type": "stream",
     "text": [
      "C:\\Users\\PMYLS\\anaconda3\\lib\\site-packages\\seaborn\\_decorators.py:36: FutureWarning: Pass the following variable as a keyword arg: x. From version 0.12, the only valid positional argument will be `data`, and passing other arguments without an explicit keyword will result in an error or misinterpretation.\n",
      "  warnings.warn(\n"
     ]
    },
    {
     "data": {
      "text/plain": [
       "<AxesSubplot:xlabel='avg'>"
      ]
     },
     "execution_count": 85,
     "metadata": {},
     "output_type": "execute_result"
    },
    {
     "data": {
      "image/png": "[encoded data removed]",
      "text/plain": [
       "<Figure size 640x480 with 1 Axes>"
      ]
     },
     "metadata": {},
     "output_type": "display_data"
    }
   ],
   "source": [
    "# it is maainly used for the 5 number summary \n",
    "sns.boxplot(dff['avg'])"
   ]
  },
  {
   "cell_type": "code",
   "execution_count": 86,
   "id": "5bc67004",
   "metadata": {},
   "outputs": [
    {
     "name": "stderr",
     "output_type": "stream",
     "text": [
      "C:\\Users\\PMYLS\\AppData\\Local\\Temp\\ipykernel_13336\\3650115929.py:1: FutureWarning: Dropping of nuisance columns in DataFrame reductions (with 'numeric_only=None') is deprecated; in a future version this will raise TypeError.  Select only valid columns before calling the reduction.\n",
      "  dff.mean()\n"
     ]
    },
    {
     "data": {
      "text/plain": [
       "runs           464.428099\n",
       "avg             15.912037\n",
       "strike_rate    100.663928\n",
       "dtype: float64"
      ]
     },
     "execution_count": 86,
     "metadata": {},
     "output_type": "execute_result"
    }
   ],
   "source": [
    "dff.mean()"
   ]
  },
  {
   "cell_type": "code",
   "execution_count": 87,
   "id": "bb81a9fe",
   "metadata": {},
   "outputs": [
    {
     "data": {
      "text/plain": [
       "batter            Z Khan\n",
       "runs                6634\n",
       "avg            55.666667\n",
       "strike_rate        400.0\n",
       "dtype: object"
      ]
     },
     "execution_count": 87,
     "metadata": {},
     "output_type": "execute_result"
    }
   ],
   "source": [
    "dff.max()"
   ]
  },
  {
   "cell_type": "code",
   "execution_count": 91,
   "id": "68045b2b",
   "metadata": {},
   "outputs": [
    {
     "name": "stderr",
     "output_type": "stream",
     "text": [
      "C:\\Users\\PMYLS\\AppData\\Local\\Temp\\ipykernel_13336\\2555945417.py:1: FutureWarning: Dropping of nuisance columns in DataFrame reductions (with 'numeric_only=None') is deprecated; in a future version this will raise TypeError.  Select only valid columns before calling the reduction.\n",
      "  dff.skew()\n"
     ]
    },
    {
     "data": {
      "text/plain": [
       "runs           3.334781\n",
       "avg            0.585288\n",
       "strike_rate    0.145183\n",
       "dtype: float64"
      ]
     },
     "execution_count": 91,
     "metadata": {},
     "output_type": "execute_result"
    }
   ],
   "source": [
    "dff.skew()"
   ]
  },
  {
   "cell_type": "code",
   "execution_count": null,
   "id": "8f74a94b",
   "metadata": {},
   "outputs": [],
   "source": []
  }
 ],
 "metadata": {
  "kernelspec": {
   "display_name": "Python 3 (ipykernel)",
   "language": "python",
   "name": "python3"
  },
  "language_info": {
   "codemirror_mode": {
    "name": "ipython",
    "version": 3
   },
   "file_extension": ".py",
   "mimetype": "text/x-python",
   "name": "python",
   "nbconvert_exporter": "python",
   "pygments_lexer": "ipython3",
   "version": "3.9.13"
  }
 },
 "nbformat": 4,
 "nbformat_minor": 5
}
